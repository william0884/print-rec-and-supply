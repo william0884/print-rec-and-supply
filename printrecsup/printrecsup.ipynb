{
 "cells": [
  {
   "cell_type": "markdown",
   "metadata": {},
   "source": [
    "3d printer image recognition and supply \n",
    "\n",
    "create a ticket. photo of part. id, username, \n",
    "datetime created, datetime due, price, status, print company. \n",
    "\n",
    "get a ticket.\n",
    "\n",
    "assign a ticket.\n",
    "\n",
    "choose to assign ticket to someone. \n",
    "\n",
    "delete a ticket. \n",
    "\n",
    "\n"
   ]
  },
  {
   "cell_type": "code",
   "execution_count": 146,
   "metadata": {},
   "outputs": [],
   "source": [
    "import pymongo\n",
    "import arrow"
   ]
  },
  {
   "cell_type": "code",
   "execution_count": 154,
   "metadata": {},
   "outputs": [],
   "source": [
    "import boto3"
   ]
  },
  {
   "cell_type": "code",
   "execution_count": 155,
   "metadata": {},
   "outputs": [],
   "source": [
    "s3 = boto3.resource('s3')"
   ]
  },
  {
   "cell_type": "code",
   "execution_count": null,
   "metadata": {},
   "outputs": [],
   "source": []
  },
  {
   "cell_type": "code",
   "execution_count": 150,
   "metadata": {},
   "outputs": [
    {
     "data": {
      "text/plain": [
       "s3.Bucket(name='printrecsup')"
      ]
     },
     "execution_count": 150,
     "metadata": {},
     "output_type": "execute_result"
    }
   ],
   "source": [
    "#s3.create_bucket(Bucket='printrecsup')\n",
    "#s3.create_bucket(Bucket='mybucket', CreateBucketConfiguration={\n",
    "#    'LocationConstraint': 'us-west-1'})"
   ]
  },
  {
   "cell_type": "code",
   "execution_count": 156,
   "metadata": {},
   "outputs": [
    {
     "name": "stdout",
     "output_type": "stream",
     "text": [
      "printrecsup\n"
     ]
    }
   ],
   "source": [
    "for bucket in s3.buckets.all():\n",
    "    print(bucket.name)"
   ]
  },
  {
   "cell_type": "code",
   "execution_count": 158,
   "metadata": {},
   "outputs": [
    {
     "data": {
      "text/plain": [
       "s3.Object(bucket_name='printrecsup', key='87-philghcq.png')"
      ]
     },
     "execution_count": 158,
     "metadata": {},
     "output_type": "execute_result"
    }
   ],
   "source": [
    "data = open('/home/pi/Downloads/87-philghcq.png', 'rb')\n",
    "s3.Bucket('printrecsup').put_object(Key='87-philghcq.png', Body=data)"
   ]
  },
  {
   "cell_type": "code",
   "execution_count": null,
   "metadata": {},
   "outputs": [],
   "source": []
  },
  {
   "cell_type": "code",
   "execution_count": null,
   "metadata": {},
   "outputs": [],
   "source": [
    "#https://printrecsup.s3.amazonaws.com/87-philghcq.png"
   ]
  },
  {
   "cell_type": "code",
   "execution_count": 129,
   "metadata": {},
   "outputs": [],
   "source": [
    "with open('/home/pi/mongo.txt', 'r') as monconf:\n",
    "    monc = monconf.read().replace('\\n', '')"
   ]
  },
  {
   "cell_type": "code",
   "execution_count": 130,
   "metadata": {},
   "outputs": [],
   "source": [
    "\n",
    "client = pymongo.MongoClient(monc)"
   ]
  },
  {
   "cell_type": "code",
   "execution_count": 131,
   "metadata": {},
   "outputs": [],
   "source": [
    "db = client['printrecsup']\n",
    "\n",
    "# Fetch our series collection\n",
    "series_collection = db['print']"
   ]
  },
  {
   "cell_type": "code",
   "execution_count": 132,
   "metadata": {},
   "outputs": [],
   "source": [
    "#post = {\"image\" : \"pi.png\", \"id\" : uuid.uuid4(), \"username\" : 'william', 'datetime': datetime.timestamp,\n",
    "#       'datedue' : duedate.timestamp}"
   ]
  },
  {
   "cell_type": "code",
   "execution_count": 163,
   "metadata": {},
   "outputs": [],
   "source": [
    "def createentry(imagepath, filename, username, price, duehours, printcompany, status):\n",
    "    datetime = arrow.now()\n",
    "    duedate = datetime.shift(hours=duehours)\n",
    "    data = open(imagepath + filename, 'rb')\n",
    "    s3.Bucket('printrecsup').put_object(Key=filename, Body=data)\n",
    "    post = {\"image\" : 'https://printrecsup.s3.amazonaws.com/' + filename, \"username\" : username, \n",
    "     'datetime': datetime.timestamp, 'datedue' : duedate.timestamp,\n",
    "    'printer' : printcompany, 'status' : status}\n",
    "    return(series_collection.insert_one(post).inserted_id)\n",
    "\n",
    "    #return(inserted_id)\n",
    "    "
   ]
  },
  {
   "cell_type": "code",
   "execution_count": 164,
   "metadata": {},
   "outputs": [
    {
     "data": {
      "text/plain": [
       "ObjectId('5ebf8b384e28f8910ffe2fc4')"
      ]
     },
     "execution_count": 164,
     "metadata": {},
     "output_type": "execute_result"
    }
   ],
   "source": [
    "#createentry('/home/pi/Downloads/', 'blackyome.png', 'william', 500, 12, 'zoomprint', 'created')"
   ]
  },
  {
   "cell_type": "code",
   "execution_count": 135,
   "metadata": {},
   "outputs": [],
   "source": [
    "def find_document(elements, multiple=True):\n",
    "\n",
    "    return series_collection.find_one(elements)"
   ]
  },
  {
   "cell_type": "code",
   "execution_count": 136,
   "metadata": {},
   "outputs": [
    {
     "data": {
      "text/plain": [
       "{'_id': ObjectId('5ebeb4f74e28f8910ffe2fbd'),\n",
       " 'image': '/home/pi/pi.png',\n",
       " 'id': UUID('2075aa18-5b50-4feb-aad7-2e8fb56fa889'),\n",
       " 'username': 'william',\n",
       " 'datetime': 1589556471,\n",
       " 'datedue': 1589599671,\n",
       " 'printer': 'zoomprint'}"
      ]
     },
     "execution_count": 136,
     "metadata": {},
     "output_type": "execute_result"
    }
   ],
   "source": [
    "#find_document({'image' : '/home/pi/pi.png'})"
   ]
  }
 ],
 "metadata": {
  "kernelspec": {
   "display_name": "Python 3",
   "language": "python",
   "name": "python3"
  },
  "language_info": {
   "codemirror_mode": {
    "name": "ipython",
    "version": 3
   },
   "file_extension": ".py",
   "mimetype": "text/x-python",
   "name": "python",
   "nbconvert_exporter": "python",
   "pygments_lexer": "ipython3",
   "version": "3.7.3"
  }
 },
 "nbformat": 4,
 "nbformat_minor": 2
}
