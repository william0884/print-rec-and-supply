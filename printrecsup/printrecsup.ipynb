{
 "cells": [
  {
   "cell_type": "markdown",
   "metadata": {},
   "source": [
    "3d printer image recognition and supply \n",
    "\n",
    "create a ticket. photo of part. id, username, \n",
    "datetime created, datetime due, price, status, print company. \n",
    "\n",
    "get a ticket.\n",
    "\n",
    "assign a ticket.\n",
    "\n",
    "choose to assign ticket to someone. \n",
    "\n",
    "delete a ticket. \n",
    "\n",
    "\n"
   ]
  },
  {
   "cell_type": "code",
   "execution_count": 36,
   "metadata": {},
   "outputs": [],
   "source": [
    "import pymongo\n",
    "import arrow"
   ]
  },
  {
   "cell_type": "code",
   "execution_count": 125,
   "metadata": {},
   "outputs": [],
   "source": [
    "with open('/home/pi/mongo.txt', 'r') as monconf:\n",
    "    monc = monconf.read().replace('\\n', '')"
   ]
  },
  {
   "cell_type": "code",
   "execution_count": 127,
   "metadata": {},
   "outputs": [],
   "source": [
    "\n",
    "client = pymongo.MongoClient(monc)"
   ]
  },
  {
   "cell_type": "code",
   "execution_count": 95,
   "metadata": {},
   "outputs": [],
   "source": [
    "db = client['printrecsup']\n",
    "\n",
    "# Fetch our series collection\n",
    "series_collection = db['print']"
   ]
  },
  {
   "cell_type": "code",
   "execution_count": 96,
   "metadata": {},
   "outputs": [],
   "source": [
    "#post = {\"image\" : \"pi.png\", \"id\" : uuid.uuid4(), \"username\" : 'william', 'datetime': datetime.timestamp,\n",
    "#       'datedue' : duedate.timestamp}"
   ]
  },
  {
   "cell_type": "code",
   "execution_count": 115,
   "metadata": {},
   "outputs": [],
   "source": [
    "def createentry(imagepath, username, price, duehours, printcompany):\n",
    "    datetime = arrow.now()\n",
    "    duedate = datetime.shift(hours=duehours)\n",
    "    post = {\"image\" : imagepath, \"username\" : username, \n",
    "     'datetime': datetime.timestamp, 'datedue' : duedate.timestamp,\n",
    "    'printer' : printcompany}\n",
    "    return(series_collection.insert_one(post).inserted_id)\n",
    "\n",
    "    #return(inserted_id)\n",
    "    "
   ]
  },
  {
   "cell_type": "code",
   "execution_count": 116,
   "metadata": {},
   "outputs": [
    {
     "data": {
      "text/plain": [
       "ObjectId('5ebeb72f4e28f8910ffe2fc0')"
      ]
     },
     "execution_count": 116,
     "metadata": {},
     "output_type": "execute_result"
    }
   ],
   "source": [
    "#createentry('/home/pi/pi.png', 'william', 500, 12, 'zoomprint')"
   ]
  },
  {
   "cell_type": "code",
   "execution_count": 118,
   "metadata": {},
   "outputs": [],
   "source": [
    "def find_document(elements, multiple=True):\n",
    "\n",
    "    return series_collection.find_one(elements)"
   ]
  },
  {
   "cell_type": "code",
   "execution_count": 121,
   "metadata": {},
   "outputs": [
    {
     "data": {
      "text/plain": [
       "{'_id': ObjectId('5ebeb4f74e28f8910ffe2fbd'),\n",
       " 'image': '/home/pi/pi.png',\n",
       " 'id': UUID('2075aa18-5b50-4feb-aad7-2e8fb56fa889'),\n",
       " 'username': 'william',\n",
       " 'datetime': 1589556471,\n",
       " 'datedue': 1589599671,\n",
       " 'printer': 'zoomprint'}"
      ]
     },
     "execution_count": 121,
     "metadata": {},
     "output_type": "execute_result"
    }
   ],
   "source": [
    "#find_document({'image' : '/home/pi/pi.png'})"
   ]
  },
  {
   "cell_type": "code",
   "execution_count": null,
   "metadata": {},
   "outputs": [],
   "source": []
  },
  {
   "cell_type": "code",
   "execution_count": null,
   "metadata": {},
   "outputs": [],
   "source": []
  }
 ],
 "metadata": {
  "kernelspec": {
   "display_name": "Python 3",
   "language": "python",
   "name": "python3"
  },
  "language_info": {
   "codemirror_mode": {
    "name": "ipython",
    "version": 3
   },
   "file_extension": ".py",
   "mimetype": "text/x-python",
   "name": "python",
   "nbconvert_exporter": "python",
   "pygments_lexer": "ipython3",
   "version": "3.7.3"
  }
 },
 "nbformat": 4,
 "nbformat_minor": 2
}
