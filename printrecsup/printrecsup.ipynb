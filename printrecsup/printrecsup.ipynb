{
 "cells": [
  {
   "cell_type": "markdown",
   "metadata": {},
   "source": [
    "3d printer image recognition and supply \n",
    "\n",
    "create a ticket. photo of part. id, username, \n",
    "datetime created, datetime due, price, status, print company. \n",
    "\n",
    "get a ticket.\n",
    "\n",
    "assign a ticket.\n",
    "\n",
    "choose to assign ticket to someone. \n",
    "\n",
    "delete a ticket. \n",
    "\n",
    "\n"
   ]
  },
  {
   "cell_type": "code",
   "execution_count": 7,
   "metadata": {},
   "outputs": [],
   "source": [
    "import pymongo\n",
    "import arrow"
   ]
  },
  {
   "cell_type": "code",
   "execution_count": 8,
   "metadata": {},
   "outputs": [],
   "source": [
    "import boto3"
   ]
  },
  {
   "cell_type": "code",
   "execution_count": 9,
   "metadata": {},
   "outputs": [],
   "source": [
    "s3 = boto3.resource('s3')"
   ]
  },
  {
   "cell_type": "code",
   "execution_count": null,
   "metadata": {},
   "outputs": [],
   "source": []
  },
  {
   "cell_type": "code",
   "execution_count": 10,
   "metadata": {},
   "outputs": [],
   "source": [
    "#s3.create_bucket(Bucket='printrecsup')\n",
    "#s3.create_bucket(Bucket='mybucket', CreateBucketConfiguration={\n",
    "#    'LocationConstraint': 'us-west-1'})"
   ]
  },
  {
   "cell_type": "code",
   "execution_count": 11,
   "metadata": {},
   "outputs": [],
   "source": [
    "#for bucket in s3.buckets.all():\n",
    "#    print(bucket.name)"
   ]
  },
  {
   "cell_type": "code",
   "execution_count": 12,
   "metadata": {},
   "outputs": [],
   "source": [
    "#data = open('/home/pi/Downloads/87-philghcq.png', 'rb')\n",
    "#s3.Bucket('printrecsup').put_object(Key='87-philghcq.png', Body=data)"
   ]
  },
  {
   "cell_type": "code",
   "execution_count": 59,
   "metadata": {},
   "outputs": [],
   "source": [
    "\n",
    "\n",
    "clirek = boto3.client('rekognition')"
   ]
  },
  {
   "cell_type": "code",
   "execution_count": 60,
   "metadata": {},
   "outputs": [],
   "source": [
    "#https://printrecsup.s3.amazonaws.com/87-philghcq.png"
   ]
  },
  {
   "cell_type": "code",
   "execution_count": 61,
   "metadata": {},
   "outputs": [],
   "source": [
    "client = boto3.client('translate')\n"
   ]
  },
  {
   "cell_type": "code",
   "execution_count": 39,
   "metadata": {},
   "outputs": [],
   "source": [
    "#response = client.translate_text(\n",
    "#    Text='hello there.',\n",
    "    \n",
    "#    SourceLanguageCode='auto',\n",
    "#    TargetLanguageCode='zh'\n",
    "#)\n"
   ]
  },
  {
   "cell_type": "code",
   "execution_count": 14,
   "metadata": {},
   "outputs": [],
   "source": [
    "with open('/home/pi/mongo.txt', 'r') as monconf:\n",
    "    monc = monconf.read().replace('\\n', '')"
   ]
  },
  {
   "cell_type": "code",
   "execution_count": 15,
   "metadata": {},
   "outputs": [],
   "source": [
    "\n",
    "client = pymongo.MongoClient(monc)"
   ]
  },
  {
   "cell_type": "code",
   "execution_count": 16,
   "metadata": {},
   "outputs": [],
   "source": [
    "db = client['printrecsup']\n",
    "\n",
    "# Fetch our series collection\n",
    "series_collection = db['print']"
   ]
  },
  {
   "cell_type": "code",
   "execution_count": 17,
   "metadata": {},
   "outputs": [],
   "source": [
    "#post = {\"image\" : \"pi.png\", \"id\" : uuid.uuid4(), \"username\" : 'william', 'datetime': datetime.timestamp,\n",
    "#       'datedue' : duedate.timestamp}"
   ]
  },
  {
   "cell_type": "code",
   "execution_count": 82,
   "metadata": {},
   "outputs": [],
   "source": [
    "def createentry(imagepath, filename, username, price, quantity, duehours, printcompany, status):\n",
    "    response = client.translate_text(\n",
    "    Text=status,\n",
    "    SourceLanguageCode='auto',\n",
    "    TargetLanguageCode='zh')\n",
    "    \n",
    "\n",
    "    datetime = arrow.now()\n",
    "    duedate = datetime.shift(hours=duehours)\n",
    "    data = open(imagepath + filename, 'rb')\n",
    "    s3.Bucket('printrecsup').put_object(Key=filename, Body=data)\n",
    "    \n",
    "    resp = clirek.detect_labels(\n",
    "    Image={\n",
    "        \n",
    "        'S3Object': {\n",
    "            'Bucket': 'printrecsup',\n",
    "            'Name': filename\n",
    "        }})\n",
    "\n",
    "    somelis = list()\n",
    "    for reslab in resp['Labels']:\n",
    "        #print(reslab['Name'])\n",
    "        somelis.append(reslab['Name'])\n",
    "    \n",
    "    post = {'image' : 'https://printrecsup.s3.amazonaws.com/' + filename, \n",
    "            'username' : username, 'price' : price, 'quantity' : quantity,\n",
    "            'totalinvoice' : price * quantity, 'datetime': datetime.timestamp, 'datedue' : duedate.timestamp,\n",
    "    'printer' : printcompany, 'status' : status, 'zhstatus' : response['TranslatedText'],\n",
    "           'labels' : somelis}\n",
    "    return(series_collection.insert_one(post).inserted_id)\n",
    "\n",
    "    #return(inserted_id)\n",
    "    "
   ]
  },
  {
   "cell_type": "code",
   "execution_count": null,
   "metadata": {},
   "outputs": [],
   "source": []
  },
  {
   "cell_type": "code",
   "execution_count": 83,
   "metadata": {},
   "outputs": [],
   "source": [
    "def find_document(elements, multiple=False):\n",
    "\n",
    "    return series_collection.find_one(elements)"
   ]
  },
  {
   "cell_type": "code",
   "execution_count": 84,
   "metadata": {},
   "outputs": [
    {
     "name": "stdout",
     "output_type": "stream",
     "text": [
      "Art\n",
      "Drawing\n",
      "Doodle\n",
      "Text\n",
      "Sketch\n",
      "Book\n",
      "Comics\n"
     ]
    },
    {
     "data": {
      "text/plain": [
       "ObjectId('5ec1217fa15077b0b15a740b')"
      ]
     },
     "execution_count": 84,
     "metadata": {},
     "output_type": "execute_result"
    }
   ],
   "source": [
    "#createentry('/home/pi/Downloads/', '87-philghcq.png', 'william', \n",
    "#            \n",
    "#            500, 50, 12, \n",
    "#            'zoomprint', 'created')"
   ]
  },
  {
   "cell_type": "code",
   "execution_count": 85,
   "metadata": {},
   "outputs": [
    {
     "data": {
      "text/plain": [
       "{'_id': ObjectId('5ec1217fa15077b0b15a740b'),\n",
       " 'image': 'https://printrecsup.s3.amazonaws.com/87-philghcq.png',\n",
       " 'username': 'william',\n",
       " 'price': 500,\n",
       " 'quantity': 50,\n",
       " 'totalinvoice': 25000,\n",
       " 'datetime': 1589715313,\n",
       " 'datedue': 1589758513,\n",
       " 'printer': 'zoomprint',\n",
       " 'status': 'created',\n",
       " 'zhstatus': '已创建',\n",
       " 'labels': ['Art', 'Drawing', 'Doodle', 'Text', 'Sketch', 'Book', 'Comics']}"
      ]
     },
     "execution_count": 85,
     "metadata": {},
     "output_type": "execute_result"
    }
   ],
   "source": [
    "find_document({'image' : 'https://printrecsup.s3.amazonaws.com/87-philghcq.png'})"
   ]
  },
  {
   "cell_type": "code",
   "execution_count": 26,
   "metadata": {},
   "outputs": [
    {
     "data": {
      "text/plain": [
       "ObjectId('5ec01f5fa15077b0b15a7407')"
      ]
     },
     "execution_count": 26,
     "metadata": {},
     "output_type": "execute_result"
    }
   ],
   "source": [
    "#createentry('/home/pi/Downloads/', 'Gates.png', 'william', 500, 12, 'zoomprint', 'finished')"
   ]
  },
  {
   "cell_type": "code",
   "execution_count": 45,
   "metadata": {},
   "outputs": [],
   "source": [
    "#createentry('/home/pi/Downloads/', 'download.jpeg', 'william', 500, 12, 'zoomprint', 'created')"
   ]
  },
  {
   "cell_type": "code",
   "execution_count": null,
   "metadata": {},
   "outputs": [],
   "source": []
  },
  {
   "cell_type": "code",
   "execution_count": 27,
   "metadata": {},
   "outputs": [],
   "source": [
    "def find_document(elements, multiple=False):\n",
    "\n",
    "    return series_collection.find_one(elements)"
   ]
  },
  {
   "cell_type": "code",
   "execution_count": null,
   "metadata": {},
   "outputs": [],
   "source": []
  },
  {
   "cell_type": "code",
   "execution_count": 30,
   "metadata": {},
   "outputs": [
    {
     "data": {
      "text/plain": [
       "{'_id': ObjectId('5ebeb4d64e28f8910ffe2fbc'),\n",
       " 'image': 'pi.png',\n",
       " 'id': UUID('2b3b3d63-a417-4f27-b759-ee9722d73e31'),\n",
       " 'username': 'william',\n",
       " 'datetime': 1589553917,\n",
       " 'datedue': 1589582717}"
      ]
     },
     "execution_count": 30,
     "metadata": {},
     "output_type": "execute_result"
    }
   ],
   "source": [
    "#find_document({'username' : 'william'})"
   ]
  },
  {
   "cell_type": "code",
   "execution_count": null,
   "metadata": {},
   "outputs": [],
   "source": []
  },
  {
   "cell_type": "code",
   "execution_count": null,
   "metadata": {},
   "outputs": [],
   "source": [
    "def find_document(elements, multiple=False):\n",
    "\n",
    "    return series_collection.find_one(elements)"
   ]
  }
 ],
 "metadata": {
  "kernelspec": {
   "display_name": "Python 3",
   "language": "python",
   "name": "python3"
  },
  "language_info": {
   "codemirror_mode": {
    "name": "ipython",
    "version": 3
   },
   "file_extension": ".py",
   "mimetype": "text/x-python",
   "name": "python",
   "nbconvert_exporter": "python",
   "pygments_lexer": "ipython3",
   "version": "3.7.3"
  }
 },
 "nbformat": 4,
 "nbformat_minor": 2
}
