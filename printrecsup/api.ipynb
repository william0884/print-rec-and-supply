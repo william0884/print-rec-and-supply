{
 "cells": [
  {
   "cell_type": "code",
   "execution_count": 1,
   "metadata": {},
   "outputs": [],
   "source": [
    "import printrecsup"
   ]
  },
  {
   "cell_type": "code",
   "execution_count": 2,
   "metadata": {},
   "outputs": [
    {
     "ename": "SyntaxError",
     "evalue": "invalid syntax (<ipython-input-2-17c55d87c7d1>, line 33)",
     "output_type": "error",
     "traceback": [
      "\u001b[0;36m  File \u001b[0;32m\"<ipython-input-2-17c55d87c7d1>\"\u001b[0;36m, line \u001b[0;32m33\u001b[0m\n\u001b[0;31m    uname str = 'william'\u001b[0m\n\u001b[0m            ^\u001b[0m\n\u001b[0;31mSyntaxError\u001b[0m\u001b[0;31m:\u001b[0m invalid syntax\n"
     ]
    }
   ],
   "source": [
    "\n",
    "#!/usr/bin/env python\n",
    "# coding: utf-8\n",
    "# In[1]:\n",
    "import spacegif\n",
    "from fastapi import FastAPI\n",
    "from pydantic import BaseModel\n",
    "from starlette.middleware.cors import CORSMiddleware\n",
    "# In[ ]:\n",
    "# In[2]:\n",
    "app = FastAPI(title=\"print supply\",\n",
    "    description=\"api for creating print tickets\",\n",
    "    version=\"2\")\n",
    "# In[ ]:\n",
    "# In[3]:\n",
    "origins = [\n",
    "    \"http:localhost\",\n",
    "    \"http:localhost:8000\",\n",
    "]\n",
    "app.add_middleware(\n",
    "    CORSMiddleware,\n",
    "    allow_origins=origins,\n",
    "    allow_credentials=True,\n",
    "    allow_methods=[\"*\"],\n",
    "    allow_headers=[\"*\"],\n",
    ")\n",
    "# In[4]:\n",
    "class RequestTicket(BaseModel):\n",
    "    '''This is forcreating a ticket:\n",
    "\n",
    "    '''\n",
    "    path: str = '/home/pi/Downloads/'\n",
    "    filename: str = 'index.gif'\n",
    "    uname: str = 'william'\n",
    "    price: int = 500\n",
    "    hrdue: int = 8\n",
    "    stat: str = 'created'\n",
    "  \n",
    "@app.post('/createtik')\n",
    "async def creatik(requestTicket : RequestTicket):\n",
    "    '''Get the space images for that day.'''\n",
    "    return(printrecsup.createentry(path, filename, uname, \n",
    "                            price, hrdue, , stat)\n",
    "\n",
    "\n"
   ]
  },
  {
   "cell_type": "code",
   "execution_count": null,
   "metadata": {},
   "outputs": [],
   "source": []
  }
 ],
 "metadata": {
  "kernelspec": {
   "display_name": "Python 3",
   "language": "python",
   "name": "python3"
  },
  "language_info": {
   "codemirror_mode": {
    "name": "ipython",
    "version": 3
   },
   "file_extension": ".py",
   "mimetype": "text/x-python",
   "name": "python",
   "nbconvert_exporter": "python",
   "pygments_lexer": "ipython3",
   "version": "3.7.3"
  }
 },
 "nbformat": 4,
 "nbformat_minor": 2
}
